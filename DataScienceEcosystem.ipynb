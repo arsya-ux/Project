{
 "cells": [
  {
   "cell_type": "markdown",
   "id": "02c14800-8bf1-4c25-bb19-bc665f2f6e64",
   "metadata": {},
   "source": [
    "# Data Science Tools and Ecosystem"
   ]
  },
  {
   "cell_type": "markdown",
   "id": "018141f9-84c4-4ae8-9095-ac7d08966a22",
   "metadata": {},
   "source": [
    "### In this notebook, Data Science Tools and Ecosystem are summarized."
   ]
  },
  {
   "cell_type": "markdown",
   "id": "d8cc2cff-1ba1-45f5-a52b-51a402439d6a",
   "metadata": {},
   "source": [
    "Objectives:\n",
    "- R\n",
    "- SQL\n",
    "- Panda\n",
    "- Numpy\n",
    "- MySQL"
   ]
  },
  {
   "cell_type": "markdown",
   "id": "4ffc024d-9f23-478b-91db-c2e4cb08e97b",
   "metadata": {},
   "source": [
    "Some of the popular languages that Data Scientists use are:Objectives:\n",
    "1. R\n",
    "2. Python\n",
    "3. SQL"
   ]
  },
  {
   "cell_type": "markdown",
   "id": "6588ec2c-00e5-4067-bd55-cbb7a5d39472",
   "metadata": {},
   "source": [
    "Some of the commonly used libraries used by Data Scientists include:\n",
    "1. Panda\n",
    "2. Matplotlib\n",
    "3. Numpy"
   ]
  },
  {
   "cell_type": "markdown",
   "id": "c008731b-be95-4edf-bd6d-736548ac62d0",
   "metadata": {},
   "source": [
    "|Data Science Tools|\n",
    "|------------------|\n",
    "|MySQL|\n",
    "|MongoDB|\n",
    "|Apache Hadoop |"
   ]
  },
  {
   "cell_type": "markdown",
   "id": "4320102e-fa93-4346-9634-6cedf5658640",
   "metadata": {},
   "source": [
    "### Below are a few examples of evaluating arithmetic expressions in Python"
   ]
  },
  {
   "cell_type": "code",
   "execution_count": 1,
   "id": "f877b133-e8c9-4639-8334-73638d11a088",
   "metadata": {},
   "outputs": [
    {
     "data": {
      "text/plain": [
       "17"
      ]
     },
     "execution_count": 1,
     "metadata": {},
     "output_type": "execute_result"
    }
   ],
   "source": [
    "# This a simple arithmetic expression to mutiply then add integers.\n",
    "(3*4)+5"
   ]
  },
  {
   "cell_type": "code",
   "execution_count": 5,
   "id": "829b506c-5281-4c7b-9e7b-f1d1166f3674",
   "metadata": {},
   "outputs": [
    {
     "name": "stdout",
     "output_type": "stream",
     "text": [
      "3.3\n"
     ]
    }
   ],
   "source": [
    "# This will convert 200 minutes to hours by diving by 60\n",
    "minute=200\n",
    "hour= minute/60\n",
    "print('%2.1f' % hour)"
   ]
  },
  {
   "cell_type": "markdown",
   "id": "e9e6c427-904c-4ef2-a429-86faa6f4b53a",
   "metadata": {},
   "source": [
    "## Author\n",
    "Matahari Arsyabil MUhammad Choiri"
   ]
  },
  {
   "cell_type": "code",
   "execution_count": null,
   "id": "e95af0df-1e56-4e28-b88a-43a82a1cbcac",
   "metadata": {},
   "outputs": [],
   "source": []
  }
 ],
 "metadata": {
  "kernelspec": {
   "display_name": "anaconda-panel-2023.05-py310",
   "language": "python",
   "name": "conda-env-anaconda-panel-2023.05-py310-py"
  },
  "language_info": {
   "codemirror_mode": {
    "name": "ipython",
    "version": 3
   },
   "file_extension": ".py",
   "mimetype": "text/x-python",
   "name": "python",
   "nbconvert_exporter": "python",
   "pygments_lexer": "ipython3",
   "version": "3.11.4"
  }
 },
 "nbformat": 4,
 "nbformat_minor": 5
}
